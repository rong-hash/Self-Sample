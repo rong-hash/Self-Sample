{
 "cells": [
  {
   "cell_type": "code",
   "execution_count": 1,
   "metadata": {},
   "outputs": [],
   "source": [
    "# import torch\n",
    "from core import data"
   ]
  },
  {
   "cell_type": "code",
   "execution_count": 2,
   "metadata": {},
   "outputs": [
    {
     "name": "stdout",
     "output_type": "stream",
     "text": [
      "(9840, 2048, 3) (9840, 1)\n"
     ]
    }
   ],
   "source": [
    "# test the function of load_data_cls\n",
    "all_data, all_label = data.load_data_cls('train')\n",
    "test_data, test_label = data.load_data_cls('test')\n",
    "print(all_data.shape, all_label.shape)"
   ]
  }
 ],
 "metadata": {
  "kernelspec": {
   "display_name": "curvenet",
   "language": "python",
   "name": "python3"
  },
  "language_info": {
   "codemirror_mode": {
    "name": "ipython",
    "version": 3
   },
   "file_extension": ".py",
   "mimetype": "text/x-python",
   "name": "python",
   "nbconvert_exporter": "python",
   "pygments_lexer": "ipython3",
   "version": "3.11.3"
  },
  "orig_nbformat": 4
 },
 "nbformat": 4,
 "nbformat_minor": 2
}
